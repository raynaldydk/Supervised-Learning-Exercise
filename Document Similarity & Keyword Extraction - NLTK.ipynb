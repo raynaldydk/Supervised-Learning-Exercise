{
 "cells": [
  {
   "cell_type": "code",
   "execution_count": 3,
   "id": "fd7ad0d8",
   "metadata": {},
   "outputs": [],
   "source": [
    "import pandas as pd\n",
    "\n",
    "from nltk.tokenize import word_tokenize\n",
    "from nltk.corpus import stopwords\n",
    "from string import punctuation\n",
    "\n",
    "sw_id = stopwords.words('indonesian') + list(punctuation)"
   ]
  },
  {
   "cell_type": "markdown",
   "id": "9ce51564",
   "metadata": {},
   "source": [
    "# Import Data"
   ]
  },
  {
   "cell_type": "code",
   "execution_count": 4,
   "id": "72ee333d",
   "metadata": {},
   "outputs": [
    {
     "data": {
      "text/html": [
       "<div>\n",
       "<style scoped>\n",
       "    .dataframe tbody tr th:only-of-type {\n",
       "        vertical-align: middle;\n",
       "    }\n",
       "\n",
       "    .dataframe tbody tr th {\n",
       "        vertical-align: top;\n",
       "    }\n",
       "\n",
       "    .dataframe thead th {\n",
       "        text-align: right;\n",
       "    }\n",
       "</style>\n",
       "<table border=\"1\" class=\"dataframe\">\n",
       "  <thead>\n",
       "    <tr style=\"text-align: right;\">\n",
       "      <th></th>\n",
       "      <th>teks</th>\n",
       "    </tr>\n",
       "  </thead>\n",
       "  <tbody>\n",
       "    <tr>\n",
       "      <th>0</th>\n",
       "      <td>Ginandjar Tetap Ditahan. Jaksa Agung Dilaporka...</td>\n",
       "    </tr>\n",
       "    <tr>\n",
       "      <th>1</th>\n",
       "      <td>Jakarta Dikangkangi Para Preman\\nKALAU tak pun...</td>\n",
       "    </tr>\n",
       "    <tr>\n",
       "      <th>2</th>\n",
       "      <td>Penyimpangan di Setpres Seolah Terjadi Sekaran...</td>\n",
       "    </tr>\n",
       "    <tr>\n",
       "      <th>3</th>\n",
       "      <td>Dibayarkan, Rapel Kenaikan Gaji Pegawai Pos\\nK...</td>\n",
       "    </tr>\n",
       "    <tr>\n",
       "      <th>4</th>\n",
       "      <td>Stop Kekerasan, Elite agar Duduk Bersama\\nSeju...</td>\n",
       "    </tr>\n",
       "  </tbody>\n",
       "</table>\n",
       "</div>"
      ],
      "text/plain": [
       "                                                teks\n",
       "0  Ginandjar Tetap Ditahan. Jaksa Agung Dilaporka...\n",
       "1  Jakarta Dikangkangi Para Preman\\nKALAU tak pun...\n",
       "2  Penyimpangan di Setpres Seolah Terjadi Sekaran...\n",
       "3  Dibayarkan, Rapel Kenaikan Gaji Pegawai Pos\\nK...\n",
       "4  Stop Kekerasan, Elite agar Duduk Bersama\\nSeju..."
      ]
     },
     "execution_count": 4,
     "metadata": {},
     "output_type": "execute_result"
    }
   ],
   "source": [
    "df = pd.read_csv('data/kompas.csv')\n",
    "df.head()"
   ]
  },
  {
   "cell_type": "markdown",
   "id": "5830c905",
   "metadata": {},
   "source": [
    "# Extract TF-IDF"
   ]
  },
  {
   "cell_type": "code",
   "execution_count": 5,
   "id": "815b9627",
   "metadata": {},
   "outputs": [],
   "source": [
    "from sklearn.feature_extraction.text import TfidfVectorizer"
   ]
  },
  {
   "cell_type": "code",
   "execution_count": 8,
   "id": "980581b8",
   "metadata": {},
   "outputs": [
    {
     "name": "stderr",
     "output_type": "stream",
     "text": [
      "C:\\Users\\ASUS\\miniconda3\\envs\\jcopml\\lib\\site-packages\\sklearn\\feature_extraction\\text.py:385: UserWarning: Your stop_words may be inconsistent with your preprocessing. Tokenizing the stop words generated tokens ['``'] not in stop_words.\n",
      "  'stop_words.' % sorted(inconsistent))\n"
     ]
    }
   ],
   "source": [
    "tfidf = TfidfVectorizer(ngram_range=(1, 2), tokenizer=word_tokenize, stop_words=sw_id)\n",
    "tfid_matrix = tfidf.fit_transform(df.teks)"
   ]
  },
  {
   "cell_type": "markdown",
   "id": "a31a7b12",
   "metadata": {},
   "source": [
    "# TF-IDF Similarity -> Document Similarity"
   ]
  },
  {
   "cell_type": "code",
   "execution_count": 11,
   "id": "9e10db9e",
   "metadata": {},
   "outputs": [],
   "source": [
    "from sklearn.metrics.pairwise import cosine_similarity"
   ]
  },
  {
   "cell_type": "code",
   "execution_count": 12,
   "id": "60c8aea1",
   "metadata": {},
   "outputs": [
    {
     "data": {
      "text/plain": [
       "array([[1.        , 0.00858328, 0.01060043, ..., 0.00856287, 0.00677808,\n",
       "        0.01513341]])"
      ]
     },
     "execution_count": 12,
     "metadata": {},
     "output_type": "execute_result"
    }
   ],
   "source": [
    "sim = cosine_similarity(tfid_matrix[0], tfid_matrix)\n",
    "sim"
   ]
  },
  {
   "cell_type": "code",
   "execution_count": 14,
   "id": "b7f9978a",
   "metadata": {},
   "outputs": [
    {
     "data": {
      "text/plain": [
       "array([[ 932, 1131, 1593, ...,  215,  144,    0]], dtype=int64)"
      ]
     },
     "execution_count": 14,
     "metadata": {},
     "output_type": "execute_result"
    }
   ],
   "source": [
    "sim.argsort()"
   ]
  },
  {
   "cell_type": "markdown",
   "id": "97fe655b",
   "metadata": {},
   "source": [
    "## Most similar"
   ]
  },
  {
   "cell_type": "code",
   "execution_count": 16,
   "id": "e2ebf5a3",
   "metadata": {
    "scrolled": true
   },
   "outputs": [
    {
     "data": {
      "text/plain": [
       "'Ginandjar Tetap Ditahan. Jaksa Agung Dilaporkan ke Polri\\nKejaksaan Agung memutuskan untuk tetap menahan tersangka kasus korupsi, Ginandjar Kartasasmita, sampai batas waktu yang ditentukan KUHAP. Sedan'"
      ]
     },
     "execution_count": 16,
     "metadata": {},
     "output_type": "execute_result"
    }
   ],
   "source": [
    "df.teks[0][:200]"
   ]
  },
  {
   "cell_type": "code",
   "execution_count": 17,
   "id": "d6014854",
   "metadata": {},
   "outputs": [
    {
     "data": {
      "text/plain": [
       "'Kejaksaan Agung Terbitkan Surat Penahanan Baru\\nKejaksaan Agung (Kejagung) akhirnya menerbitkan surat perintah penahanan yang baru terhadap mantan Menteri Pertambangan dan Energi Ginandjar Kartasasmita'"
      ]
     },
     "execution_count": 17,
     "metadata": {},
     "output_type": "execute_result"
    }
   ],
   "source": [
    "df.teks[144][:200]"
   ]
  },
  {
   "cell_type": "code",
   "execution_count": 19,
   "id": "8a910f4d",
   "metadata": {},
   "outputs": [
    {
     "data": {
      "text/plain": [
       "'Kuasa Hukum Ginandjar Bertahan di Rutan\\nSejumlah kuasa hukum Ginandjar Kartasasmita hingga hari Selasa (17/4) pukul 22.00 masih bertahan di ruang tahanan (rutan) Kejaksaan Agung (Kejagung). Selasa pag'"
      ]
     },
     "execution_count": 19,
     "metadata": {},
     "output_type": "execute_result"
    }
   ],
   "source": [
    "df.teks[215][:200]"
   ]
  },
  {
   "cell_type": "markdown",
   "id": "a23ce814",
   "metadata": {},
   "source": [
    "## Least similar"
   ]
  },
  {
   "cell_type": "code",
   "execution_count": 20,
   "id": "e1299d5e",
   "metadata": {},
   "outputs": [
    {
     "data": {
      "text/plain": [
       "'Pusat Pengolahan Ikan Asin Lhokseumawe Terbakar\\nPusat pengolahan ikan asin di kawasan Pasar Ikan Lhokseumawe (Aceh) terbakar bersama berton-ton stok ikan asin Sabtu (13/1) siang. Sedikitnya 25 gudang '"
      ]
     },
     "execution_count": 20,
     "metadata": {},
     "output_type": "execute_result"
    }
   ],
   "source": [
    "df.teks[932][:200]"
   ]
  },
  {
   "cell_type": "code",
   "execution_count": 21,
   "id": "38ee9440",
   "metadata": {},
   "outputs": [
    {
     "data": {
      "text/plain": [
       "'Merpati Mendarat Darurat\\n\\nPesawat Penumpang CASA 212 Merpati Ambon-Saumlaki, Kamis (18/4) pukul 16.30, mendarat darurat di Desa Rumah Lewang Besar, Kecamatan Pulau-pulau Babar, Kabupaten Maluku Tengga'"
      ]
     },
     "execution_count": 21,
     "metadata": {},
     "output_type": "execute_result"
    }
   ],
   "source": [
    "df.teks[1131][:200]"
   ]
  },
  {
   "cell_type": "code",
   "execution_count": 22,
   "id": "75153b9f",
   "metadata": {},
   "outputs": [
    {
     "data": {
      "text/plain": [
       "'Kapal Kargo Tenggelam di Sumenep, 11 Orang Hilang\\n\\nSebuah kapal kargo yang belum diketahui namanya tenggelam di perairan Masa Lembu, Sumenep, Madura, Rabu (6/2). Akibat musibah itu, 11 orang hilang, s'"
      ]
     },
     "execution_count": 22,
     "metadata": {},
     "output_type": "execute_result"
    }
   ],
   "source": [
    "df.teks[1593][:200]"
   ]
  },
  {
   "cell_type": "markdown",
   "id": "c02631ae",
   "metadata": {},
   "source": [
    "# Keyword Extraction"
   ]
  },
  {
   "cell_type": "code",
   "execution_count": 24,
   "id": "020b00a1",
   "metadata": {},
   "outputs": [
    {
     "data": {
      "text/plain": [
       "['zuniga memilih',\n",
       " 'zunnatul',\n",
       " 'zunnatul mafruhah',\n",
       " 'zurich',\n",
       " 'zurich northholt',\n",
       " 'zw',\n",
       " 'zw suparman',\n",
       " 'zw tim',\n",
       " 'zx',\n",
       " 'zx diserbu']"
      ]
     },
     "execution_count": 24,
     "metadata": {},
     "output_type": "execute_result"
    }
   ],
   "source": [
    "vocab = tfidf.get_feature_names()\n",
    "vocab[-10:]"
   ]
  },
  {
   "cell_type": "code",
   "execution_count": 25,
   "id": "bb675e6c",
   "metadata": {},
   "outputs": [
    {
     "data": {
      "text/plain": [
       "array([[0.02115058, 0.        , 0.        , ..., 0.        , 0.        ,\n",
       "        0.        ]])"
      ]
     },
     "execution_count": 25,
     "metadata": {},
     "output_type": "execute_result"
    }
   ],
   "source": [
    "tfid_matrix[0].toarray()"
   ]
  },
  {
   "cell_type": "code",
   "execution_count": 39,
   "id": "e490350e",
   "metadata": {},
   "outputs": [
    {
     "data": {
      "text/plain": [
       "array([[274212, 365469, 365468, ..., 386379, 436652, 169219]], dtype=int64)"
      ]
     },
     "execution_count": 39,
     "metadata": {},
     "output_type": "execute_result"
    }
   ],
   "source": [
    "sorted_tfidf = tfid_matrix[0].toarray().argsort()\n",
    "sorted_tfidf"
   ]
  },
  {
   "cell_type": "code",
   "execution_count": 40,
   "id": "e2ac5c9f",
   "metadata": {},
   "outputs": [
    {
     "data": {
      "text/plain": [
       "'ginandjar'"
      ]
     },
     "execution_count": 40,
     "metadata": {},
     "output_type": "execute_result"
    }
   ],
   "source": [
    "vocab[169219]"
   ]
  },
  {
   "cell_type": "code",
   "execution_count": 41,
   "id": "c3807e50",
   "metadata": {},
   "outputs": [
    {
     "data": {
      "text/plain": [
       "'putusan'"
      ]
     },
     "execution_count": 41,
     "metadata": {},
     "output_type": "execute_result"
    }
   ],
   "source": [
    "vocab[436652]"
   ]
  },
  {
   "cell_type": "code",
   "execution_count": 42,
   "id": "2ab6f30e",
   "metadata": {},
   "outputs": [
    {
     "data": {
      "text/plain": [
       "'penahanan'"
      ]
     },
     "execution_count": 42,
     "metadata": {},
     "output_type": "execute_result"
    }
   ],
   "source": [
    "vocab[386379]"
   ]
  },
  {
   "cell_type": "code",
   "execution_count": 45,
   "id": "2be64031",
   "metadata": {},
   "outputs": [],
   "source": [
    "def extract_keywords_tfidf(doc, tfidf, topk=10):\n",
    "    matrix = tfidf.transform([doc])\n",
    "    vocab = tfidf.get_feature_names()\n",
    "    \n",
    "    sorted_tfidf = matrix[0].toarray()[0].argsort()\n",
    "    return [vocab[idx] for idx in reversed(sorted_tfidf[-topk:])]"
   ]
  },
  {
   "cell_type": "code",
   "execution_count": 46,
   "id": "0485af71",
   "metadata": {},
   "outputs": [],
   "source": [
    "text = '''\n",
    "Jakarta, CNN Indonesia -- Anggota Komisi VIII DPR dari fraksi Partai Keadilan Sejahtera (PKS), Bukhori Yusuf menolak aturan baru Kementerian Agama (Kemenag) soal penggunaan pengeras suara di masjid dan musala.\n",
    "Bukhori menyarankan agar hal itu mestinya bisa diserahkan kepada masyarakat secara tradisi dan musyawarah.\n",
    "\n",
    "\"Biarkan masyarakat yang mengatur secara tradisi atau musyawarah,\" kata dia kepada CNNIndonesia.com, Senin (21/2).\n",
    "\n",
    "\n",
    "Bukhori menilai, aturan Kemenag soal penggunaan pengeras suara di masjid dan musala terlalu mencampuri ranah teknis peribadatan.\n",
    "\n",
    "Lihat Juga :\n",
    "\n",
    "DMI Dukung Aturan Baru Menag Sepiker Masjid: Tingkat Bising Tinggi\n",
    "Padahal, setiap kelompok masyarakat di suatu wilayah memiliki tradisi yang berbeda, dan hal itu bisa diatur secara tradisi oleh mereka.\n",
    "\n",
    "\"Menurut saya kemenag tidak perlu mengatur hal-hal yang sangat teknis tentang masalah ibadah utamanya penggunaan speker untuk adzan, pengajian, maupun lainnya di masyarakat, karena hal itu di setiap kampung yang satu dengan lainnya tidak sama,\" kata dia.\n",
    "\n",
    "Aturan mengenai penggunaan spiker masjid dan musala sebelumnya diteken Menag Yaqut lewat surat edaran (SE) Nomor 05 tahun 2022 yang mengatur tentang penggunaan pengeras suara di masjid dan musala.\n",
    "\n",
    "Lihat Juga :\n",
    "\n",
    "SE Menag: Sepiker Luar Masjid Saat Takbiran Sampai Jam 10 Malam\n",
    "Salah satu poin penting yang diatur dalam edaran itu yakni volume pengeras suara masjid/musala paling besar 100 dB atau desibel dengan suara tidak sumbang.\n",
    "\n",
    "Menurut Yaqut, penggunaan pengeras suara di masjid dan musala memang kebutuhan bagi umat Islam sebagai salah satu media syiar Islam di tengah masyarakat.\n",
    "\n",
    "Namun, di sisi lain, masyarakat Indonesia terdiri dari beragam agama, keyakinan, dan latar belakang sehingga perlu upaya merawat persaudaraan dan harmoni sosial.\n",
    "\n",
    "\"Pedoman diterbitkan sebagai upaya meningkatkan ketenteraman, ketertiban, dan keharmonisan antarwarga masyarakat,\" ujar Yaqut.\n",
    "\n",
    "\n",
    "\n",
    "Baca artikel CNN Indonesia \"PKS Tolak Aturan Menag soal Sepiker Masjid: Biar Warga yang Atur\" selengkapnya di sini: https://www.cnnindonesia.com/nasional/20220221175411-32-762069/pks-tolak-aturan-menag-soal-sepiker-masjid-biar-warga-yang-atur.\n",
    "\n",
    "Download Apps CNN Indonesia sekarang https://app.cnnindonesia.com/\n",
    "'''"
   ]
  },
  {
   "cell_type": "code",
   "execution_count": 47,
   "id": "0ccd7091",
   "metadata": {},
   "outputs": [
    {
     "data": {
      "text/plain": [
       "['masjid',\n",
       " 'suara masjid',\n",
       " 'pengeras',\n",
       " 'pengeras suara',\n",
       " 'menag',\n",
       " 'penggunaan',\n",
       " 'suara',\n",
       " 'aturan',\n",
       " 'cnn',\n",
       " 'tradisi']"
      ]
     },
     "execution_count": 47,
     "metadata": {},
     "output_type": "execute_result"
    }
   ],
   "source": [
    "extract_keywords_tfidf(text, tfidf)"
   ]
  },
  {
   "cell_type": "code",
   "execution_count": null,
   "id": "64544afc",
   "metadata": {},
   "outputs": [],
   "source": []
  }
 ],
 "metadata": {
  "kernelspec": {
   "display_name": "Python [conda env:jcopml]",
   "language": "python",
   "name": "conda-env-jcopml-py"
  },
  "language_info": {
   "codemirror_mode": {
    "name": "ipython",
    "version": 3
   },
   "file_extension": ".py",
   "mimetype": "text/x-python",
   "name": "python",
   "nbconvert_exporter": "python",
   "pygments_lexer": "ipython3",
   "version": "3.7.6"
  },
  "varInspector": {
   "cols": {
    "lenName": 16,
    "lenType": 16,
    "lenVar": 40
   },
   "kernels_config": {
    "python": {
     "delete_cmd_postfix": "",
     "delete_cmd_prefix": "del ",
     "library": "var_list.py",
     "varRefreshCmd": "print(var_dic_list())"
    },
    "r": {
     "delete_cmd_postfix": ") ",
     "delete_cmd_prefix": "rm(",
     "library": "var_list.r",
     "varRefreshCmd": "cat(var_dic_list()) "
    }
   },
   "types_to_exclude": [
    "module",
    "function",
    "builtin_function_or_method",
    "instance",
    "_Feature"
   ],
   "window_display": false
  }
 },
 "nbformat": 4,
 "nbformat_minor": 5
}
